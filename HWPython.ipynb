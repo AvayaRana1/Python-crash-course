{
 "cells": [
  {
   "cell_type": "code",
   "execution_count": 3,
   "id": "5fb9fb58-7a65-4159-b900-c2069a656946",
   "metadata": {},
   "outputs": [
    {
     "name": "stdout",
     "output_type": "stream",
     "text": [
      "My name is Avaya\n"
     ]
    }
   ],
   "source": [
    "#name \n",
    "print('My name is Avaya')"
   ]
  },
  {
   "cell_type": "code",
   "execution_count": 4,
   "id": "b22c4bc4-3d35-4837-93d0-1a457896beef",
   "metadata": {},
   "outputs": [
    {
     "name": "stdout",
     "output_type": "stream",
     "text": [
      "3\n"
     ]
    }
   ],
   "source": [
    "#two inputs sum\n",
    "a = 1\n",
    "b = 2\n",
    "print(a+b)"
   ]
  },
  {
   "cell_type": "code",
   "execution_count": 6,
   "id": "91e547fc-40eb-4dee-8c85-677db7c03714",
   "metadata": {},
   "outputs": [
    {
     "name": "stdout",
     "output_type": "stream",
     "text": [
      "the sum of them 33.75\n"
     ]
    }
   ],
   "source": [
    "#two floats\n",
    "a = float(1.5)\n",
    "b = float(22.5)\n",
    "print(\"the sum of them\", a*b) "
   ]
  },
  {
   "cell_type": "code",
   "execution_count": 7,
   "id": "5e504262-d700-49fc-812f-1d75fb3f75d3",
   "metadata": {},
   "outputs": [
    {
     "name": "stdout",
     "output_type": "stream",
     "text": [
      "0\n",
      "1\n",
      "1\n",
      "2\n",
      "3\n",
      "5\n",
      "8\n",
      "13\n",
      "21\n",
      "34\n"
     ]
    }
   ],
   "source": [
    "#10 fibonacci numbers\n",
    "a, b = 0, 1\n",
    "for _ in range(10):\n",
    "    print(a)\n",
    "    a, b = b, a + b\n",
    "\n"
   ]
  },
  {
   "cell_type": "code",
   "execution_count": 8,
   "id": "46baaa4f-45f9-407d-8cd8-4f372169ba69",
   "metadata": {},
   "outputs": [
    {
     "name": "stdin",
     "output_type": "stream",
     "text": [
      "Enter a number:2  1\n"
     ]
    },
    {
     "name": "stdout",
     "output_type": "stream",
     "text": [
      "1 x 1 = 1\n",
      "1 x 2 = 2\n",
      "1 x 3 = 3\n",
      "1 x 4 = 4\n",
      "1 x 5 = 5\n",
      "1 x 6 = 6\n",
      "1 x 7 = 7\n",
      "1 x 8 = 8\n",
      "1 x 9 = 9\n",
      "1 x 10 = 10\n"
     ]
    }
   ],
   "source": [
    "#multiplication\n",
    "num = int(input(\"Enter a number:2 \"))\n",
    "\n",
    "\n",
    "for i in range(1, 11):\n",
    "    print(f\"{num} x {i} = {num * i}\")\n"
   ]
  },
  {
   "cell_type": "code",
   "execution_count": 9,
   "id": "ae227d02-a62e-4f64-a40d-97617ca55464",
   "metadata": {},
   "outputs": [
    {
     "name": "stdout",
     "output_type": "stream",
     "text": [
      "10\n",
      "9\n",
      "8\n",
      "7\n",
      "6\n",
      "5\n",
      "4\n",
      "3\n",
      "2\n",
      "1\n"
     ]
    }
   ],
   "source": [
    "#prints 10 to 1 in new line\n",
    "for i in range(10, 0, -1):\n",
    "    print(i)\n"
   ]
  },
  {
   "cell_type": "code",
   "execution_count": 10,
   "id": "804fa576-7082-4b07-b7c9-598bd3747bba",
   "metadata": {},
   "outputs": [
    {
     "name": "stdout",
     "output_type": "stream",
     "text": [
      "10, 9, 8, 7, 6, 5, 4, 3, 2, 1\n"
     ]
    }
   ],
   "source": [
    "# Print the countdown\n",
    "print(', '.join(str(i) for i in range(10, 0, -1)))\n"
   ]
  },
  {
   "cell_type": "code",
   "execution_count": 11,
   "id": "b1784072-8b11-4b47-8e24-79675abc617d",
   "metadata": {},
   "outputs": [
    {
     "name": "stdout",
     "output_type": "stream",
     "text": [
      "    *\n",
      "   ***\n",
      "  *****\n",
      " *******\n",
      "*********\n"
     ]
    }
   ],
   "source": [
    "# Number of rows in the triangle\n",
    "rows = 5\n",
    "\n",
    "# Print the triangle\n",
    "for i in range(1, rows + 1):\n",
    "    print(' ' * (rows - i) + '*' * (2 * i - 1))\n"
   ]
  },
  {
   "cell_type": "code",
   "execution_count": 14,
   "id": "8bc65e24-85d0-4830-ace9-4df4a621c1f9",
   "metadata": {},
   "outputs": [
    {
     "name": "stdout",
     "output_type": "stream",
     "text": [
      "2024-05-12 18:49:14.109222\n"
     ]
    }
   ],
   "source": [
    "from datetime import datetime\n",
    "now = datetime.now()\n",
    "print(now)"
   ]
  },
  {
   "cell_type": "markdown",
   "id": "50bd275a-59f9-45bd-bc74-15f550b14240",
   "metadata": {},
   "source": [
    "datatypes\n"
   ]
  },
  {
   "cell_type": "code",
   "execution_count": 15,
   "id": "975ca2cd-cdd1-4989-b13b-9283e1aa0dd8",
   "metadata": {},
   "outputs": [
    {
     "name": "stdin",
     "output_type": "stream",
     "text": [
      "Enter the radius of the circle:22  1\n"
     ]
    },
    {
     "name": "stdout",
     "output_type": "stream",
     "text": [
      "The area of the circle is: 3.14\n"
     ]
    }
   ],
   "source": [
    "import math\n",
    "\n",
    "# Take the radius as input from the user\n",
    "radius = float(input(\"Enter the radius of the circle:22 \"))\n",
    "\n",
    "# Calculate the area of the circle\n",
    "area = math.pi * radius ** 2\n",
    "\n",
    "# Print the area of the circle\n",
    "print(\"The area of the circle is: {:.2f}\".format(area))\n"
   ]
  },
  {
   "cell_type": "code",
   "execution_count": 1,
   "id": "1549bba5-2889-4760-ba23-d038e9286a76",
   "metadata": {},
   "outputs": [
    {
     "name": "stdin",
     "output_type": "stream",
     "text": [
      "Enter a number: 5 1\n"
     ]
    },
    {
     "name": "stdout",
     "output_type": "stream",
     "text": [
      "The factorial of the number is:  1\n"
     ]
    }
   ],
   "source": [
    "# Take a number as input from the user\n",
    "num = int(input(\"Enter a number: 5\"))\n",
    "\n",
    "# Calculate the factorial\n",
    "factorial = 1\n",
    "for i in range(1, num + 1):\n",
    "    factorial *= i\n",
    "\n",
    "# Print the factorial\n",
    "print(\"The factorial of the number is: \", factorial)\n"
   ]
  },
  {
   "cell_type": "code",
   "execution_count": 2,
   "id": "7d638f72-2d4a-4bd6-a356-98ffadbbd534",
   "metadata": {},
   "outputs": [
    {
     "name": "stdin",
     "output_type": "stream",
     "text": [
      "Enter temperature in Celsius:  44\n"
     ]
    },
    {
     "name": "stdout",
     "output_type": "stream",
     "text": [
      "The temperature in Fahrenheit is: 111.2\n"
     ]
    }
   ],
   "source": [
    "celsius = float(input(\"Enter temperature in Celsius: \"))\n",
    "fahrenheit = (celsius * 9/5) + 32\n",
    "print(f\"The temperature in Fahrenheit is: {fahrenheit}\")\n",
    "\n"
   ]
  },
  {
   "cell_type": "code",
   "execution_count": 3,
   "id": "b3daad88-95a6-4714-9538-98ee49dcf517",
   "metadata": {},
   "outputs": [
    {
     "name": "stdout",
     "output_type": "stream",
     "text": [
      "The random number is: 48\n"
     ]
    }
   ],
   "source": [
    "import random\n",
    "\n",
    "number = random.randint(1, 100)\n",
    "print(f\"The random number is: {number}\")\n"
   ]
  },
  {
   "cell_type": "code",
   "execution_count": 4,
   "id": "08e46366-ba48-43d8-a919-272251fd3096",
   "metadata": {},
   "outputs": [
    {
     "name": "stdin",
     "output_type": "stream",
     "text": [
      "Enter a string:  1\n"
     ]
    },
    {
     "name": "stdout",
     "output_type": "stream",
     "text": [
      "The reversed string is: 1\n"
     ]
    }
   ],
   "source": [
    "#reverse string\n",
    "string = input(\"Enter a string: \")\n",
    "reversed_string = string[::-1]\n",
    "print(f\"The reversed string is: {reversed_string}\")\n"
   ]
  },
  {
   "cell_type": "code",
   "execution_count": 5,
   "id": "7ed262d5-576c-4913-8352-337c4c121150",
   "metadata": {},
   "outputs": [
    {
     "name": "stdin",
     "output_type": "stream",
     "text": [
      "Enter a string:  23\n"
     ]
    },
    {
     "name": "stdout",
     "output_type": "stream",
     "text": [
      "The string is not a palindrome.\n"
     ]
    }
   ],
   "source": [
    "#string palidrome\n",
    "string = input(\"Enter a string: \")\n",
    "if string == string[::-1]:\n",
    "    print(\"The string is a palindrome.\")\n",
    "else:\n",
    "    print(\"The string is not a palindrome.\")\n"
   ]
  },
  {
   "cell_type": "code",
   "execution_count": 7,
   "id": "3a4b79e2-918c-4940-999f-66323a29efe0",
   "metadata": {},
   "outputs": [
    {
     "name": "stdin",
     "output_type": "stream",
     "text": [
      "Enter a string:  j k k l\n"
     ]
    },
    {
     "name": "stdout",
     "output_type": "stream",
     "text": [
      "The number of words in the string is: 4\n"
     ]
    }
   ],
   "source": [
    "#counter\n",
    "string = input(\"Enter a string: \")\n",
    "word_count = len(string.split())\n",
    "print(f\"The number of words in the string is: {word_count}\")\n"
   ]
  },
  {
   "cell_type": "code",
   "execution_count": 9,
   "id": "175f4e4b-f396-4a5e-9b4b-6c81766c1a97",
   "metadata": {},
   "outputs": [
    {
     "name": "stdin",
     "output_type": "stream",
     "text": [
      "Enter a sentence:  ra k er\n"
     ]
    },
    {
     "name": "stdout",
     "output_type": "stream",
     "text": [
      "The sentence with words in reverse order is: er k ra\n"
     ]
    }
   ],
   "source": [
    "#reverse order\n",
    "sentence = input(\"Enter a sentence: \")\n",
    "words = sentence.split()\n",
    "reversed_words = ' '.join(reversed(words))\n",
    "print(f\"The sentence with words in reverse order is: {reversed_words}\")\n"
   ]
  },
  {
   "cell_type": "code",
   "execution_count": 10,
   "id": "4089fe46-e17c-4f38-acd3-c6d866f069d1",
   "metadata": {},
   "outputs": [
    {
     "name": "stdin",
     "output_type": "stream",
     "text": [
      "Enter a string:  KKKKKKK\n"
     ]
    },
    {
     "name": "stdout",
     "output_type": "stream",
     "text": [
      "The string in lowercase is: kkkkkkk\n"
     ]
    }
   ],
   "source": [
    "#lowercase\n",
    "string = input(\"Enter a string: \")\n",
    "lowercase_string = string.lower()\n",
    "print(f\"The string in lowercase is: {lowercase_string}\")\n"
   ]
  },
  {
   "cell_type": "code",
   "execution_count": 11,
   "id": "de277f77-d4b2-41e7-a47b-6af89db26c6d",
   "metadata": {},
   "outputs": [
    {
     "name": "stdin",
     "output_type": "stream",
     "text": [
      "Enter numbers separated by space:  1 12\n"
     ]
    },
    {
     "name": "stdout",
     "output_type": "stream",
     "text": [
      "The largest number is: 12\n",
      "The smallest number is: 1\n"
     ]
    }
   ],
   "source": [
    "#largent and smallest element finder\n",
    "numbers = [int(n) for n in input(\"Enter numbers separated by space: \").split()]\n",
    "print(f\"The largest number is: {max(numbers)}\")\n",
    "print(f\"The smallest number is: {min(numbers)}\")\n"
   ]
  },
  {
   "cell_type": "code",
   "execution_count": 13,
   "id": "72301a34-ff13-4808-9a95-79854a5b22bc",
   "metadata": {},
   "outputs": [
    {
     "name": "stdin",
     "output_type": "stream",
     "text": [
      "Enter numbers separated by space:  1 2 \n"
     ]
    },
    {
     "name": "stdout",
     "output_type": "stream",
     "text": [
      "The sum of all numbers is: 3\n"
     ]
    }
   ],
   "source": [
    "# a list of numbers as input and prints the sum of all the elements\n",
    "numbers = [int(n) for n in input(\"Enter numbers separated by space: \").split()]\n",
    "print(f\"The sum of all numbers is: {sum(numbers)}\")\n"
   ]
  },
  {
   "cell_type": "code",
   "execution_count": 15,
   "id": "c7b3c2d5-eb1c-430d-afb9-8250142d6eca",
   "metadata": {},
   "outputs": [
    {
     "name": "stdin",
     "output_type": "stream",
     "text": [
      "Enter numbers separated by space:  1 2 3 4 \n"
     ]
    },
    {
     "name": "stdout",
     "output_type": "stream",
     "text": [
      "The list after removing negative numbers is: [1, 2, 3, 4]\n"
     ]
    }
   ],
   "source": [
    "# a Python script that removes all negative numbers from a given list and prints the modified list\n",
    "numbers = [int(n) for n in input(\"Enter numbers separated by space: \").split()]\n",
    "positive_numbers = [n for n in numbers if n >= 0]\n",
    "print(f\"The list after removing negative numbers is: {positive_numbers}\")\n"
   ]
  },
  {
   "cell_type": "code",
   "execution_count": 16,
   "id": "68b5d92b-f17e-4ae0-a610-8c72b513c66a",
   "metadata": {},
   "outputs": [
    {
     "name": "stdin",
     "output_type": "stream",
     "text": [
      "Enter numbers separated by space:  1 2 2 2  42 24 \n"
     ]
    },
    {
     "name": "stdout",
     "output_type": "stream",
     "text": [
      "The sorted list is: [1, 2, 2, 2, 24, 42]\n"
     ]
    }
   ],
   "source": [
    " #a program that sorts a list of integers in ascending order and prints the result\n",
    "numbers = [int(n) for n in input(\"Enter numbers separated by space: \").split()]\n",
    "sorted_numbers = sorted(numbers)\n",
    "print(f\"The sorted list is: {sorted_numbers}\")\n"
   ]
  },
  {
   "cell_type": "code",
   "execution_count": 17,
   "id": "de261f44-16f1-4146-9c1a-b788fd40b1ad",
   "metadata": {},
   "outputs": [
    {
     "name": "stdin",
     "output_type": "stream",
     "text": [
      "Enter numbers for the first list separated by space:  1 2 5 6 7\n",
      "Enter numbers for the second list separated by space:  12313\n"
     ]
    },
    {
     "name": "stdout",
     "output_type": "stream",
     "text": [
      "Do the lists have a common element? No\n"
     ]
    }
   ],
   "source": [
    "#a Python program that takes two lists and prints True if they have at least one common element, otherwise False\n",
    "list1 = [int(n) for n in input(\"Enter numbers for the first list separated by space: \").split()]\n",
    "list2 = [int(n) for n in input(\"Enter numbers for the second list separated by space: \").split()]\n",
    "print(f\"Do the lists have a common element? {'Yes' if any(i in list1 for i in list2) else 'No'}\")\n"
   ]
  },
  {
   "cell_type": "code",
   "execution_count": 20,
   "id": "f561f68b-656b-4b90-8edf-c90b1cd5b201",
   "metadata": {},
   "outputs": [
    {
     "name": "stdin",
     "output_type": "stream",
     "text": [
      "Enter a dictionary:1  1\n"
     ]
    },
    {
     "ename": "AttributeError",
     "evalue": "'int' object has no attribute 'keys'",
     "output_type": "error",
     "traceback": [
      "\u001b[1;31m---------------------------------------------------------------------------\u001b[0m",
      "\u001b[1;31mAttributeError\u001b[0m                            Traceback (most recent call last)",
      "Cell \u001b[1;32mIn[20], line 3\u001b[0m\n\u001b[0;32m      1\u001b[0m \u001b[38;5;66;03m#a Python program that takes a dictionary as input and prints all its keys\u001b[39;00m\n\u001b[0;32m      2\u001b[0m dictionary \u001b[38;5;241m=\u001b[39m \u001b[38;5;28meval\u001b[39m(\u001b[38;5;28minput\u001b[39m(\u001b[38;5;124m\"\u001b[39m\u001b[38;5;124mEnter a dictionary:1 \u001b[39m\u001b[38;5;124m\"\u001b[39m))\n\u001b[1;32m----> 3\u001b[0m \u001b[38;5;28mprint\u001b[39m(\u001b[38;5;124mf\u001b[39m\u001b[38;5;124m\"\u001b[39m\u001b[38;5;124mThe keys in the dictionary are: \u001b[39m\u001b[38;5;132;01m{\u001b[39;00m\u001b[38;5;28mlist\u001b[39m(dictionary\u001b[38;5;241m.\u001b[39mkeys())\u001b[38;5;132;01m}\u001b[39;00m\u001b[38;5;124m\"\u001b[39m)\n",
      "\u001b[1;31mAttributeError\u001b[0m: 'int' object has no attribute 'keys'"
     ]
    }
   ],
   "source": [
    "#a Python program that takes a dictionary as input and prints all its keys\n",
    "dictionary = eval(input(\"Enter a dictionary:1 \"))\n",
    "print(f\"The keys in the dictionary are: {list(dictionary.keys())}\")\n"
   ]
  },
  {
   "cell_type": "code",
   "execution_count": null,
   "id": "51264dda-cebd-4425-8809-2b51a268f2d9",
   "metadata": {},
   "outputs": [],
   "source": [
    "dictionary = eval(input(\"Enter a dictionary: \"))\n",
    "print(f\"The sum of all values in the dictionary is: {sum(dictionary.values())}\")\n",
    "\n"
   ]
  },
  {
   "cell_type": "code",
   "execution_count": null,
   "id": "919b9502-f1f7-45f5-9a6d-eb3a0d36d453",
   "metadata": {},
   "outputs": [],
   "source": [
    "dictionary = eval(input(\"Enter a dictionary: \"))\n",
    "key = input(\"Enter a key: \")\n",
    "print(f\"Does the key exist in the dictionary? {'Yes' if key in dictionary else 'No'}\")\n"
   ]
  },
  {
   "cell_type": "code",
   "execution_count": null,
   "id": "5457ccab-29bd-4f63-b971-52a8877930cc",
   "metadata": {},
   "outputs": [],
   "source": [
    "dictionary1 = eval(input(\"Enter the first dictionary: \"))\n",
    "dictionary2 = eval(input(\"Enter the second dictionary: \"))\n",
    "merged_dictionary = {**dictionary1, **dictionary2}\n",
    "print(f\"The merged dictionary is: {merged_dictionary}\")\n"
   ]
  },
  {
   "cell_type": "code",
   "execution_count": null,
   "id": "86736a58-2af3-4274-b60c-413ba6fcfa1f",
   "metadata": {},
   "outputs": [],
   "source": [
    "dictionary = eval(input(\"Enter a dictionary: \"))\n",
    "sorted_dictionary = dict(sorted(dictionary.items()))\n",
    "print(f\"The dictionary sorted by keys is: {sorted_dictionary}\")\n"
   ]
  },
  {
   "cell_type": "code",
   "execution_count": null,
   "id": "95abf15f-e8be-4699-8362-c110aa397983",
   "metadata": {},
   "outputs": [],
   "source": []
  }
 ],
 "metadata": {
  "kernelspec": {
   "display_name": "Python 3 (ipykernel)",
   "language": "python",
   "name": "python3"
  },
  "language_info": {
   "codemirror_mode": {
    "name": "ipython",
    "version": 3
   },
   "file_extension": ".py",
   "mimetype": "text/x-python",
   "name": "python",
   "nbconvert_exporter": "python",
   "pygments_lexer": "ipython3",
   "version": "3.11.7"
  }
 },
 "nbformat": 4,
 "nbformat_minor": 5
}
