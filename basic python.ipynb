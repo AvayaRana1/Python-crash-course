{
 "cells": [
  {
   "cell_type": "code",
   "execution_count": 2,
   "id": "4dcaa967-1fd6-47d6-8b3e-59dca44d0fcc",
   "metadata": {},
   "outputs": [
    {
     "name": "stdout",
     "output_type": "stream",
     "text": [
      "hello\n"
     ]
    }
   ],
   "source": [
    "print('hello')"
   ]
  },
  {
   "cell_type": "code",
   "execution_count": 4,
   "id": "2737e50c-0c29-4907-99e1-056a77531b87",
   "metadata": {},
   "outputs": [
    {
     "name": "stdout",
     "output_type": "stream",
     "text": [
      "14\n",
      "Arman\n"
     ]
    }
   ],
   "source": [
    "#variables\n",
    "y = 14\n",
    "z = \"Arman\"\n",
    "print(y)\n",
    "print(z)"
   ]
  },
  {
   "cell_type": "code",
   "execution_count": 5,
   "id": "d608dfcb-624f-44f1-97f4-61e19d752c6b",
   "metadata": {},
   "outputs": [
    {
     "name": "stdout",
     "output_type": "stream",
     "text": [
      "Arman is 14 years old.\n"
     ]
    }
   ],
   "source": [
    "#string formatting\n",
    "print(f\"{z} is {y} years old.\")"
   ]
  },
  {
   "cell_type": "code",
   "execution_count": 6,
   "id": "1122e640-67aa-4fa0-931e-d498f66f0b11",
   "metadata": {},
   "outputs": [
    {
     "name": "stdout",
     "output_type": "stream",
     "text": [
      "Arman is 14 years old.\n"
     ]
    }
   ],
   "source": [
    "#string format method\n",
    "print(\"{} is {} years old.\". format(z,y))"
   ]
  },
  {
   "cell_type": "code",
   "execution_count": 10,
   "id": "5ebbd997-da96-4f27-a516-521b73110081",
   "metadata": {},
   "outputs": [
    {
     "name": "stdout",
     "output_type": "stream",
     "text": [
      "Arman is 14 years old.\n"
     ]
    }
   ],
   "source": [
    "#using older string % formatting method\n",
    "print (\"%s is %d years old.\" %(z,y))"
   ]
  },
  {
   "cell_type": "code",
   "execution_count": 15,
   "id": "d7c46a8f-57d7-4326-b8f7-60ebf3ca4094",
   "metadata": {},
   "outputs": [
    {
     "name": "stdout",
     "output_type": "stream",
     "text": [
      "Armanis14years old\n"
     ]
    }
   ],
   "source": [
    "#using  concatination method\n",
    "print(z +\"is\" + str(y) + \"years old\")\n"
   ]
  },
  {
   "cell_type": "code",
   "execution_count": 18,
   "id": "a89524d7-b97b-4ab3-8d21-f1d47285dc16",
   "metadata": {},
   "outputs": [
    {
     "name": "stdout",
     "output_type": "stream",
     "text": [
      "the addition of x and y is 25.\n",
      "the substraction of x and y is -5.\n",
      "the division of x and y is 0.6666666666666666.\n",
      "the multiplication of x and y is 150.\n",
      "the remainder of x and y is 10.\n"
     ]
    }
   ],
   "source": [
    "#data types\n",
    "#working with numbers\n",
    "x = 10\n",
    "y = 15\n",
    "print(f\"the addition of x and y is {x+y}.\")\n",
    "print(f\"the substraction of x and y is {x-y}.\")\n",
    "print(f\"the division of x and y is {x/y}.\")\n",
    "print(f\"the multiplication of x and y is {x*y}.\")\n",
    "print(f\"the remainder of x and y is {x%y}.\")"
   ]
  },
  {
   "cell_type": "code",
   "execution_count": 21,
   "id": "0a5f2713-507f-4a1b-9fc0-9a31bf6429d0",
   "metadata": {},
   "outputs": [
    {
     "name": "stdout",
     "output_type": "stream",
     "text": [
      "single quoted string: python is Awesome.\n"
     ]
    }
   ],
   "source": [
    "#working with single quoted string\n",
    "single_quoted_string = 'python is Awesome.'\n",
    "print(\"single quoted string:\", single_quoted_string)"
   ]
  },
  {
   "cell_type": "code",
   "execution_count": 24,
   "id": "1a5470fe-4b20-4166-8268-63346fe7d299",
   "metadata": {},
   "outputs": [
    {
     "name": "stdout",
     "output_type": "stream",
     "text": [
      "Concatenated String: python is Awesome.\n"
     ]
    }
   ],
   "source": [
    "#string concatination\n",
    "concatenated_string = single_quoted_string +''\n",
    "print(\"Concatenated String:\", concatenated_string)"
   ]
  },
  {
   "cell_type": "code",
   "execution_count": 25,
   "id": "b6d2ad98-496a-451d-8c95-5434b92613f8",
   "metadata": {},
   "outputs": [
    {
     "name": "stdout",
     "output_type": "stream",
     "text": [
      "PYTHON IS AWESOME.\n",
      "python is awesome.\n"
     ]
    }
   ],
   "source": [
    "#string Methods \n",
    "uppercase_string = concatenated_string.upper()\n",
    "print(uppercase_string)\n",
    "lowercase_string = concatenated_string.lower()\n",
    "print(lowercase_string)"
   ]
  },
  {
   "cell_type": "code",
   "execution_count": 1,
   "id": "950272e5-ea8a-44c1-96e6-3ff1acdd5070",
   "metadata": {},
   "outputs": [
    {
     "name": "stdout",
     "output_type": "stream",
     "text": [
      "slice word is  ersity\n"
     ]
    }
   ],
   "source": [
    "#string slicing\n",
    "\n",
    "word = \"university of sunderland\"\n",
    "slice_word =word[4:10]\n",
    "print(\"slice word is \", slice_word)"
   ]
  },
  {
   "cell_type": "code",
   "execution_count": 4,
   "id": "d7ab1420-6727-4b42-86e8-0868664b28a6",
   "metadata": {},
   "outputs": [
    {
     "name": "stdout",
     "output_type": "stream",
     "text": [
      "     Pokhara University\n",
      "Pokhara University\n"
     ]
    }
   ],
   "source": [
    "word_space = \"     Pokhara University\"\n",
    "print(word_space)\n",
    "remove_space = word_space.strip() #remove_space\n",
    "print(remove_space)"
   ]
  },
  {
   "cell_type": "code",
   "execution_count": 6,
   "id": "41f395cb-555c-4d6e-ab07-055ed9aedea0",
   "metadata": {},
   "outputs": [
    {
     "name": "stdout",
     "output_type": "stream",
     "text": [
      "['kali', 'Linux', 'is', 'used', 'for', 'Hacking']\n",
      "Complete sentence is : kali Linux is used for Hacking\n"
     ]
    }
   ],
   "source": [
    "word_list = [\"kali\",\"Linux\",\"is\",\"used\",\"for\",\"Hacking\"]\n",
    "print(word_list)\n",
    "sentence = \" \".join(word_list)\n",
    "print(\"Complete sentence is :\",sentence)"
   ]
  },
  {
   "cell_type": "code",
   "execution_count": 9,
   "id": "59153ed5-17ba-43d9-8b81-c1bdf85ef22c",
   "metadata": {},
   "outputs": [
    {
     "name": "stdout",
     "output_type": "stream",
     "text": [
      "Replaced String: Cybersecurity,World\n"
     ]
    }
   ],
   "source": [
    "world_list = \"Hello,World\"\n",
    "replaced_string = world_list.replace(\"Hello\", \"Cybersecurity\")\n",
    "print(\"Replaced String:\",replaced_string)"
   ]
  },
  {
   "cell_type": "code",
   "execution_count": 10,
   "id": "556413a5-faf8-4663-a7bc-b91cacc0bb8c",
   "metadata": {},
   "outputs": [
    {
     "name": "stdout",
     "output_type": "stream",
     "text": [
      "Index of Course: 43\n"
     ]
    }
   ],
   "source": [
    "#find a word in a sentence \n",
    "word = \"Python ios Awesonme!! I am Learning python course.\"\n",
    "index = word.find(\"course\")\n",
    "print(\"Index of Course:\", index)"
   ]
  },
  {
   "cell_type": "markdown",
   "id": "09bf846a-62a3-49f2-a5a7-f434499a7481",
   "metadata": {},
   "source": [
    "#List"
   ]
  },
  {
   "cell_type": "code",
   "execution_count": 11,
   "id": "2a57e8bf-20b9-43b1-a067-989650f1984a",
   "metadata": {},
   "outputs": [
    {
     "name": "stdout",
     "output_type": "stream",
     "text": [
      "['herapheri', 'Ra-one', 'scary']\n"
     ]
    }
   ],
   "source": [
    "#creating a List\n",
    "fav_movie = [\"herapheri\",\"Ra-one\",\"scary\"]\n",
    "print(fav_movie)\n",
    "\n",
    "\n"
   ]
  },
  {
   "cell_type": "code",
   "execution_count": 15,
   "id": "b2dc0762-908d-4e5d-8741-37b5ae82fdba",
   "metadata": {},
   "outputs": [
    {
     "name": "stdout",
     "output_type": "stream",
     "text": [
      "Udip fav movie is: Ra-one\n",
      "Nitin fav movie is: scary\n"
     ]
    }
   ],
   "source": [
    "#Accesing the element of list\n",
    "print(\"Udip fav movie is:\", fav_movie[1])\n",
    "print(\"Nitin fav movie is:\", fav_movie[2])"
   ]
  },
  {
   "cell_type": "code",
   "execution_count": 16,
   "id": "687a8bf0-c0bf-4a15-94c5-6b1a9db6eac2",
   "metadata": {},
   "outputs": [
    {
     "name": "stdout",
     "output_type": "stream",
     "text": [
      "the length of string is: 3\n"
     ]
    }
   ],
   "source": [
    "#find the length of list\n",
    "print(\"the length of string is:\",len(fav_movie))\n"
   ]
  },
  {
   "cell_type": "code",
   "execution_count": 17,
   "id": "8b05d7d6-7d68-4317-8703-a7c5213921c2",
   "metadata": {},
   "outputs": [
    {
     "name": "stdout",
     "output_type": "stream",
     "text": [
      "['apple', 'banana', 'cherry', 'dondo']\n",
      "[5, 10, 20, 25]\n",
      "[True, False, True, False]\n",
      "['apple', 5, True]\n"
     ]
    }
   ],
   "source": [
    "#list can contain heterogenous data types\n",
    "list1 = [\"apple\", \"banana\",\"cherry\", \"dondo\"]\n",
    "list2 = [5,10,20,25]\n",
    "list3 = [True,False,True,False]\n",
    "list4= [\"apple\",5,True]\n",
    "print(list1)\n",
    "print(list2)\n",
    "print(list3)\n",
    "print(list4)\n"
   ]
  },
  {
   "cell_type": "code",
   "execution_count": 18,
   "id": "abb08670-3dcd-41f5-9226-0f34caabbef9",
   "metadata": {},
   "outputs": [
    {
     "name": "stdout",
     "output_type": "stream",
     "text": [
      "<class 'list'>\n"
     ]
    }
   ],
   "source": [
    "#lets find the data types\n",
    "print(type(list4))"
   ]
  },
  {
   "cell_type": "code",
   "execution_count": 19,
   "id": "bee48d1a-b78b-4a91-bc35-eb8ef7464b8e",
   "metadata": {},
   "outputs": [
    {
     "name": "stdout",
     "output_type": "stream",
     "text": [
      "['One Piece', 'Lord of the rings', [9, 10]]\n",
      "IMDB rating LGR: 10\n"
     ]
    }
   ],
   "source": [
    "#Nested list\n",
    "nested_list = [\"One Piece\", \"Lord of the rings\", [9,10]]\n",
    "print(nested_list)\n",
    "print(\"IMDB rating LGR:\",nested_list[2][1])\n"
   ]
  },
  {
   "cell_type": "markdown",
   "id": "de9e609f-8b4c-43fa-812a-761674dc02ba",
   "metadata": {},
   "source": [
    "2.4 Dsctionary"
   ]
  },
  {
   "cell_type": "code",
   "execution_count": 21,
   "id": "d9e6eb0f-a7bb-48cb-a833-9b496895427f",
   "metadata": {},
   "outputs": [
    {
     "name": "stdout",
     "output_type": "stream",
     "text": [
      "{'name': 'Avaya', 'Department': 'Computer Network', 'CGPA': 3.8}\n"
     ]
    }
   ],
   "source": [
    "#creating a disctionary \n",
    "student = {\"name\": \"Avaya\",\n",
    "          \"Department\": \"Computer Network\",\n",
    "          \"CGPA\": 3.8\n",
    "          }\n",
    "print(student)    "
   ]
  },
  {
   "cell_type": "code",
   "execution_count": 23,
   "id": "541d946c-fb9f-497d-a4da-800f17baa48e",
   "metadata": {},
   "outputs": [
    {
     "name": "stdout",
     "output_type": "stream",
     "text": [
      "Student name: Avaya\n"
     ]
    }
   ],
   "source": [
    "#accessing the disctionary items\n",
    "print(\"Student name:\",student[\"name\"])\n"
   ]
  },
  {
   "cell_type": "code",
   "execution_count": 26,
   "id": "52e6fbed-ed3e-4aed-a96f-9c94ea22bb54",
   "metadata": {},
   "outputs": [
    {
     "name": "stdout",
     "output_type": "stream",
     "text": [
      "{'name': 'Avaya', 'Department': 'Computer Network', 'CGPA': 3.8, 'year': 2019}\n"
     ]
    }
   ],
   "source": [
    "#adding a new element\n",
    "student[\"year\"] = 2019\n",
    "#print the discionary as a string\n",
    "print(repr(student))"
   ]
  },
  {
   "cell_type": "code",
   "execution_count": 27,
   "id": "4384cd58-d454-43d5-b305-9da8251a2d82",
   "metadata": {},
   "outputs": [
    {
     "name": "stdout",
     "output_type": "stream",
     "text": [
      "{'name': 'Avaya', 'Department': 'Computer Network', 'CGPA': 3.9, 'year': 2019}\n"
     ]
    }
   ],
   "source": [
    "#modifying an  Exisitng item\n",
    "student[\"CGPA\"] = 3.9\n",
    "print(repr(student))"
   ]
  },
  {
   "cell_type": "code",
   "execution_count": 32,
   "id": "d7006338-217a-4840-b6a8-c70f8f9072b6",
   "metadata": {},
   "outputs": [
    {
     "name": "stdout",
     "output_type": "stream",
     "text": [
      "{'name': 'Avaya', 'Department': 'Computer Network', 'CGPA': 3.9, 'year': 2019}\n"
     ]
    }
   ],
   "source": [
    "#delteing an items if it exists\n",
    "if \"Year\" in student:\n",
    "    del student[\"Year\"]\n",
    "    \n",
    "print(student)"
   ]
  },
  {
   "cell_type": "code",
   "execution_count": 31,
   "id": "25979367-8066-4006-8ee9-1a144ec3c9c9",
   "metadata": {},
   "outputs": [
    {
     "name": "stdout",
     "output_type": "stream",
     "text": [
      "{'name': 'Tesla', 'company': 'Tesla', 'price': 100}\n"
     ]
    }
   ],
   "source": [
    "car_dict = dict(name=\"Tesla\", company=\"Tesla\", price=100)\n",
    "print(car_dict)"
   ]
  },
  {
   "cell_type": "code",
   "execution_count": null,
   "id": "defc3aa0-98b3-4e51-aa87-9a157bd43e92",
   "metadata": {},
   "outputs": [],
   "source": []
  }
 ],
 "metadata": {
  "kernelspec": {
   "display_name": "Python 3 (ipykernel)",
   "language": "python",
   "name": "python3"
  },
  "language_info": {
   "codemirror_mode": {
    "name": "ipython",
    "version": 3
   },
   "file_extension": ".py",
   "mimetype": "text/x-python",
   "name": "python",
   "nbconvert_exporter": "python",
   "pygments_lexer": "ipython3",
   "version": "3.11.7"
  }
 },
 "nbformat": 4,
 "nbformat_minor": 5
}
